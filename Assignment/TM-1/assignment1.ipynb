{
 "cells": [
  {
   "cell_type": "markdown",
   "id": "785674b5",
   "metadata": {},
   "source": [
    "# 1. Split this string"
   ]
  },
  {
   "cell_type": "code",
   "execution_count": 1,
   "id": "8704c79c",
   "metadata": {},
   "outputs": [],
   "source": [
    "s = \"Hi there Sam!\"\n",
    "splitted_string=s.split()"
   ]
  },
  {
   "cell_type": "markdown",
   "id": "0f2ed03e",
   "metadata": {},
   "source": [
    "# 2. Use .format() to print the following string.\n",
    "Output should be: The diameter of Earth is 12742 kilometers."
   ]
  },
  {
   "cell_type": "code",
   "execution_count": 2,
   "id": "c3621e51",
   "metadata": {},
   "outputs": [],
   "source": [
    "planet = \"Earth\"\n",
    "diameter = 12742"
   ]
  },
  {
   "cell_type": "code",
   "execution_count": 3,
   "id": "5c2d8e65",
   "metadata": {},
   "outputs": [
    {
     "name": "stdout",
     "output_type": "stream",
     "text": [
      "The diameter of Earth is 12742 kilometers\n"
     ]
    }
   ],
   "source": [
    "txt = \"The diameter of {planet} is {diameter} kilometers\".format(planet = \"Earth\", diameter =12742)\n",
    "print(txt)"
   ]
  },
  {
   "cell_type": "markdown",
   "id": "590712de",
   "metadata": {},
   "source": [
    "# 3. In this nest dictionary grab the word \"hello\""
   ]
  },
  {
   "cell_type": "code",
   "execution_count": 4,
   "id": "0e59ae9a",
   "metadata": {},
   "outputs": [],
   "source": [
    "d = {'k1':[1,2,3,{'tricky':['oh','man','inception',{'target':[1,2,3,'hello']}]}]}"
   ]
  },
  {
   "cell_type": "code",
   "execution_count": null,
   "id": "f9bf8f98",
   "metadata": {},
   "outputs": [],
   "source": [
    "d[\"k1\"][2][\"tricky\"][1][\"target\"][-1][0]"
   ]
  },
  {
   "cell_type": "markdown",
   "id": "38d9c27e",
   "metadata": {},
   "source": [
    "# Numpy\n"
   ]
  },
  {
   "cell_type": "code",
   "execution_count": null,
   "id": "bac73701",
   "metadata": {},
   "outputs": [],
   "source": [
    "import numpy as np"
   ]
  },
  {
   "cell_type": "markdown",
   "id": "9205d819",
   "metadata": {},
   "source": [
    "# 4.1 Create an array of 10 zeros?\n",
    "4.2 Create an array of 10 fives?"
   ]
  },
  {
   "cell_type": "code",
   "execution_count": null,
   "id": "cb532775",
   "metadata": {},
   "outputs": [],
   "source": [
    "zeros_array = np.zeros(shape=(1, 10))\n",
    "print(zeros_array)"
   ]
  },
  {
   "cell_type": "code",
   "execution_count": null,
   "id": "67a83326",
   "metadata": {},
   "outputs": [],
   "source": [
    "array=np.ones(10)*5\n",
    "print(array)"
   ]
  },
  {
   "cell_type": "markdown",
   "id": "69bbe870",
   "metadata": {},
   "source": [
    "# 5. Create an array of all the even integers from 20 to 35"
   ]
  },
  {
   "cell_type": "code",
   "execution_count": null,
   "id": "cb20e0e8",
   "metadata": {},
   "outputs": [],
   "source": [
    "array=np.arange(20,35,2)\n",
    "print(array)"
   ]
  },
  {
   "cell_type": "markdown",
   "id": "a87043a7",
   "metadata": {},
   "source": [
    "# 6. Create a 3x3 matrix with values ranging from 0 to 8"
   ]
  },
  {
   "cell_type": "code",
   "execution_count": null,
   "id": "ef7711ef",
   "metadata": {},
   "outputs": [],
   "source": [
    "arr = np.arange(0,9).reshape(3,3)\n",
    "print(arr)"
   ]
  },
  {
   "cell_type": "markdown",
   "id": "98019d38",
   "metadata": {},
   "source": [
    "# 7. Concatenate a and b\n",
    "a = np.array([1, 2, 3]), b = np.array([4, 5, 6])"
   ]
  },
  {
   "cell_type": "code",
   "execution_count": null,
   "id": "4898ca85",
   "metadata": {},
   "outputs": [],
   "source": [
    "res = np.concatenate((a,b))\n",
    "print(res)"
   ]
  },
  {
   "cell_type": "markdown",
   "id": "884fae5e",
   "metadata": {},
   "source": [
    "# Pandas\n",
    "8. Create a dataframe with 3 rows and 2 columns"
   ]
  },
  {
   "cell_type": "code",
   "execution_count": null,
   "id": "3cac2a58",
   "metadata": {},
   "outputs": [],
   "source": [
    "import pandas as pd"
   ]
  },
  {
   "cell_type": "code",
   "execution_count": null,
   "id": "d86fe03e",
   "metadata": {},
   "outputs": [],
   "source": [
    "df = pd.DataFrame(columns = ['A', 'B'], index = ['a', 'b', 'c'])\n",
    "print(df)"
   ]
  },
  {
   "cell_type": "markdown",
   "id": "5fd191cf",
   "metadata": {},
   "source": [
    "# 9. Generate the series of dates from 1st Jan, 2023 to 10th Feb, 2023"
   ]
  },
  {
   "cell_type": "code",
   "execution_count": null,
   "id": "62ab0c1f",
   "metadata": {},
   "outputs": [],
   "source": [
    "per1 = pd.date_range(start ='1-1-2023', \n",
    "         end ='10-02-2023', freq ='5H')\n",
    "for val in per1:\n",
    "    print(val)"
   ]
  },
  {
   "cell_type": "markdown",
   "id": "9f42d3c2",
   "metadata": {},
   "source": [
    "# 10. Create 2D list to DataFrame\n",
    "lists = [[1, 'aaa', 22], [2, 'bbb', 25], [3, 'ccc', 24]]"
   ]
  },
  {
   "cell_type": "code",
   "execution_count": null,
   "id": "0490824f",
   "metadata": {},
   "outputs": [],
   "source": [
    "lists = [[1, 'aaa', 22], [2, 'bbb', 25], [3, 'ccc', 24]]"
   ]
  },
  {
   "cell_type": "code",
   "execution_count": null,
   "id": "5cd81a15",
   "metadata": {},
   "outputs": [],
   "source": [
    "df = pd.DataFrame(lists, index=[\"a\",\"b\",\"c\"])\n",
    "print(df)"
   ]
  }
 ],
 "metadata": {
  "kernelspec": {
   "display_name": "Python 3 (ipykernel)",
   "language": "python",
   "name": "python3"
  },
  "language_info": {
   "codemirror_mode": {
    "name": "ipython",
    "version": 3
   },
   "file_extension": ".py",
   "mimetype": "text/x-python",
   "name": "python",
   "nbconvert_exporter": "python",
   "pygments_lexer": "ipython3",
   "version": "3.10.4"
  }
 },
 "nbformat": 4,
 "nbformat_minor": 5
}
